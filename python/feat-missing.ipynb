{
 "cells": [
  {
   "cell_type": "markdown",
   "metadata": {},
   "source": [
    "缺失特征处理"
   ]
  },
  {
   "cell_type": "code",
   "execution_count": 25,
   "metadata": {},
   "outputs": [
    {
     "data": {
      "text/plain": [
       "array([[25.],\n",
       "       [30.],\n",
       "       [29.],\n",
       "       [36.]])"
      ]
     },
     "execution_count": 25,
     "metadata": {},
     "output_type": "execute_result"
    }
   ],
   "source": [
    "import numpy as np\n",
    "from sklearn.experimental import enable_iterative_imputer\n",
    "from sklearn.impute import SimpleImputer, IterativeImputer\n",
    "\n",
    "X = np.array([\n",
    "    [1, '周末', '吃饭', 25, '不好看'],\n",
    "    [2, '周末', '逛街', np.nan, '好看'],\n",
    "    [3, '周末', '-', 29, '不好看'],\n",
    "    [4, '周末', '逛街', 36, '好看'],\n",
    "])\n",
    "\n",
    "imp_mean = SimpleImputer(strategy='mean')\n",
    "imp_mean.fit_transform(X[:, 3:4])  # 用均值填充\n"
   ]
  },
  {
   "cell_type": "code",
   "execution_count": 22,
   "metadata": {},
   "outputs": [
    {
     "data": {
      "text/plain": [
       "array([[25.],\n",
       "       [29.],\n",
       "       [29.],\n",
       "       [36.]])"
      ]
     },
     "execution_count": 22,
     "metadata": {},
     "output_type": "execute_result"
    }
   ],
   "source": [
    "imp_median = SimpleImputer(strategy='median')\n",
    "imp_median.fit_transform(X[:, 3:4]) # 用中位数填充"
   ]
  },
  {
   "cell_type": "code",
   "execution_count": 23,
   "metadata": {},
   "outputs": [
    {
     "data": {
      "text/plain": [
       "array([['吃饭'],\n",
       "       ['逛街'],\n",
       "       ['逛街'],\n",
       "       ['逛街']], dtype=object)"
      ]
     },
     "execution_count": 23,
     "metadata": {},
     "output_type": "execute_result"
    }
   ],
   "source": [
    "imp_frequent = SimpleImputer(missing_values='-', strategy='most_frequent')\n",
    "imp_frequent.fit_transform(X[:, 2:3].astype('object')) # 用众数填充"
   ]
  },
  {
   "cell_type": "code",
   "execution_count": 17,
   "metadata": {},
   "outputs": [
    {
     "data": {
      "text/plain": [
       "array([[ 1.        , 25.        ],\n",
       "       [ 2.        , 27.86309709],\n",
       "       [ 3.        , 29.        ],\n",
       "       [ 4.        , 36.        ]])"
      ]
     },
     "execution_count": 17,
     "metadata": {},
     "output_type": "execute_result"
    }
   ],
   "source": [
    "# 回归器默认采用BayesianRidge 也可选DecisionTreeRegressor ExtraTreesRegressor KNeighborsRegressor\n",
    "imp_iter = IterativeImputer()\n",
    "imp_iter.fit_transform(X[:, [0,3]])"
   ]
  },
  {
   "cell_type": "code",
   "execution_count": null,
   "metadata": {},
   "outputs": [],
   "source": []
  }
 ],
 "metadata": {
  "interpreter": {
   "hash": "e7370f93d1d0cde622a1f8e1c04877d8463912d04d973331ad4851f04de6915a"
  },
  "kernelspec": {
   "display_name": "Python 3.9.7 64-bit",
   "name": "python3"
  },
  "language_info": {
   "codemirror_mode": {
    "name": "ipython",
    "version": 3
   },
   "file_extension": ".py",
   "mimetype": "text/x-python",
   "name": "python",
   "nbconvert_exporter": "python",
   "pygments_lexer": "ipython3",
   "version": "3.10.4"
  },
  "orig_nbformat": 4
 },
 "nbformat": 4,
 "nbformat_minor": 2
}
