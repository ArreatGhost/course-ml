{
 "cells": [
  {
   "cell_type": "code",
   "execution_count": 34,
   "metadata": {},
   "outputs": [
    {
     "data": {
      "text/plain": [
       "1.0"
      ]
     },
     "execution_count": 34,
     "metadata": {},
     "output_type": "execute_result"
    }
   ],
   "source": [
    "import numpy as np\n",
    "from sklearn.neural_network import MLPClassifier\n",
    "\n",
    "X = np.array([[1, 1], [1, 0], [0, 1], [0, 0]])\n",
    "y = np.array([0, 1, 1, 0])\n",
    "\n",
    "mlp = MLPClassifier(\n",
    "    hidden_layer_sizes=(3,),  # 隐藏层神经元个数\n",
    "    activation='logistic',    # 激活函数\n",
    "    max_iter=100,             # 最大迭代轮数\n",
    "    solver='lbfgs',           # 求解器\n",
    "    alpha=0,                  # 正则项系数\n",
    "    random_state=0,\n",
    "    verbose=False\n",
    ")\n",
    "\n",
    "clf = mlp.fit(X, y)\n",
    "clf.score(X, y)\n"
   ]
  },
  {
   "cell_type": "code",
   "execution_count": 35,
   "metadata": {},
   "outputs": [
    {
     "data": {
      "text/plain": [
       "array([0, 1, 1, 0])"
      ]
     },
     "execution_count": 35,
     "metadata": {},
     "output_type": "execute_result"
    }
   ],
   "source": [
    "clf.predict(X)"
   ]
  },
  {
   "cell_type": "code",
   "execution_count": 36,
   "metadata": {},
   "outputs": [
    {
     "data": {
      "text/plain": [
       "array([[9.99657242e-01, 3.42758392e-04],\n",
       "       [0.00000000e+00, 1.00000000e+00],\n",
       "       [9.99000882e-12, 1.00000000e+00],\n",
       "       [9.99997483e-01, 2.51712316e-06]])"
      ]
     },
     "execution_count": 36,
     "metadata": {},
     "output_type": "execute_result"
    }
   ],
   "source": [
    "clf.predict_proba(X)"
   ]
  },
  {
   "cell_type": "code",
   "execution_count": 37,
   "metadata": {},
   "outputs": [
    {
     "data": {
      "text/plain": [
       "[array([[  6.76841162, 182.00626767,  34.50952352],\n",
       "        [ 13.40612336, 271.8997091 ,  20.69100835]]),\n",
       " array([[-52.19531528],\n",
       "        [ 56.97435573],\n",
       "        [ 59.58511557]])]"
      ]
     },
     "execution_count": 37,
     "metadata": {},
     "output_type": "execute_result"
    }
   ],
   "source": [
    "clf.coefs_"
   ]
  },
  {
   "cell_type": "code",
   "execution_count": 39,
   "metadata": {},
   "outputs": [
    {
     "data": {
      "text/plain": [
       "[array([-13.98224375, -19.41397326,   7.64000118]), array([-72.44882658])]"
      ]
     },
     "execution_count": 39,
     "metadata": {},
     "output_type": "execute_result"
    }
   ],
   "source": [
    "clf.intercepts_"
   ]
  }
 ],
 "metadata": {
  "interpreter": {
   "hash": "e7370f93d1d0cde622a1f8e1c04877d8463912d04d973331ad4851f04de6915a"
  },
  "kernelspec": {
   "display_name": "Python 3.10.4 64-bit",
   "language": "python",
   "name": "python3"
  },
  "language_info": {
   "name": "python",
   "version": "3.10.4"
  },
  "orig_nbformat": 4
 },
 "nbformat": 4,
 "nbformat_minor": 2
}
